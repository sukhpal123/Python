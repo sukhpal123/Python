{
  "cells": [
    {
      "cell_type": "markdown",
      "metadata": {
        "id": "4GtRwPajWtgH"
      },
      "source": [
        "# <center><u> Python-Intermediate </u></center>\n"
      ]
    },
    {
      "cell_type": "markdown",
      "metadata": {
        "id": "qnfR62KaWtgM"
      },
      "source": [
        "Here you can start digging into our intermediate-level programming questions that will teach you new Python concepts. This category is for intermediate Python developers who already know the basics of Python development and want to expand their knowledge.\n",
        "\n",
        "\n",
        "\n",
        "Becoming a Python expert takes time, but over time you’ll master this beautiful programming language. It’s worth it! \n",
        "\n",
        "\n",
        "So lets get started!"
      ]
    },
    {
      "cell_type": "markdown",
      "source": [
        "## **`WATCH VIDEOS IN THE PORTAL`**"
      ],
      "metadata": {
        "id": "aKVNKhLP9W8E"
      }
    },
    {
      "cell_type": "markdown",
      "source": [
        "### **`Watch Video 15: Python Intermediate Tutorial`**"
      ],
      "metadata": {
        "id": "3ay5QkyG9Ay2"
      }
    },
    {
      "cell_type": "markdown",
      "metadata": {
        "id": "hBV6jA72WtgM"
      },
      "source": [
        "1.Lets remove duplicates from list names=['A','B','C','A','D','E','F','G','H','E','D']\n",
        "\n"
      ]
    },
    {
      "cell_type": "code",
      "execution_count": 18,
      "metadata": {
        "id": "A32nJBGHWtgN",
        "outputId": "f23a67e9-4ce5-4934-81a5-3b1315c60108",
        "colab": {
          "base_uri": "https://localhost:8080/"
        }
      },
      "outputs": [
        {
          "output_type": "stream",
          "name": "stdout",
          "text": [
            "['A', 'B', 'C', 'D', 'E', 'F', 'G', 'H']\n"
          ]
        }
      ],
      "source": [
        "#code here\n",
        "list1=['A','B','C','A','D','E','F','G','H','E','D']\n",
        "list2 = []\n",
        "for item in list1 :\n",
        "  if item not in list2:\n",
        "    list2.append(item)\n",
        "print(list2)\n",
        "\n"
      ]
    },
    {
      "cell_type": "markdown",
      "metadata": {
        "id": "3vs-MwqhWtgO"
      },
      "source": [
        "2. Good! Shall we try solving above problem in shhorter way using list comprehention? It will be amazing. Here we go!\n"
      ]
    },
    {
      "cell_type": "code",
      "execution_count": 16,
      "metadata": {
        "id": "ngy_ypU2WtgP",
        "outputId": "e040ea82-7e8a-4920-f4a4-99c20198a894",
        "colab": {
          "base_uri": "https://localhost:8080/"
        }
      },
      "outputs": [
        {
          "output_type": "execute_result",
          "data": {
            "text/plain": [
              "['A', 'B', 'C', 'D', 'E', 'F', 'G', 'H']"
            ]
          },
          "metadata": {},
          "execution_count": 16
        }
      ],
      "source": [
        "#code here\n",
        "list1=['A','B','C','A','D','E','F','G','H','E','D']\n",
        "list2 = []\n",
        "[list2.append(item) for item in list1 if item not in list2 ]\n",
        "list2"
      ]
    },
    {
      "cell_type": "markdown",
      "metadata": {
        "id": "kuBGT9n5WtgP"
      },
      "source": [
        "3. define a funtion 'occurence' which takes 2 inputs, one list 'lst' and another one a number 'n' and count the number of occurrences of n in your list lst."
      ]
    },
    {
      "cell_type": "code",
      "execution_count": 20,
      "metadata": {
        "id": "W8SL5qfUWtgQ",
        "outputId": "7f64c8e7-19ad-43b6-b885-4b2bfcabbb8e",
        "colab": {
          "base_uri": "https://localhost:8080/"
        }
      },
      "outputs": [
        {
          "output_type": "execute_result",
          "data": {
            "text/plain": [
              "4"
            ]
          },
          "metadata": {},
          "execution_count": 20
        }
      ],
      "source": [
        "#your code\n",
        "def occurence(l,n):\n",
        "  num = 0\n",
        "  for element in l:\n",
        "    if n == element:\n",
        "      num += 1\n",
        "  return num\n",
        "\n",
        " \n",
        "#lets use your function\n",
        "occurence([2,3,4,8,1,3,5,2,1,3,1,2,2], 2)"
      ]
    },
    {
      "cell_type": "markdown",
      "metadata": {
        "id": "vzaaHEIwWtgQ"
      },
      "source": [
        "4. Calculate factorial of a number ( Here number=3) using while loop"
      ]
    },
    {
      "cell_type": "code",
      "execution_count": 26,
      "metadata": {
        "id": "3zjPibDmWtgR",
        "outputId": "ce903b5f-a324-4ad6-abff-fc9393387965",
        "colab": {
          "base_uri": "https://localhost:8080/"
        }
      },
      "outputs": [
        {
          "output_type": "execute_result",
          "data": {
            "text/plain": [
              "6"
            ]
          },
          "metadata": {},
          "execution_count": 26
        }
      ],
      "source": [
        "number = 3\n",
        "#code here\n",
        "def fact(n):\n",
        "  num = 1\n",
        "  for i in range(1, n+1):\n",
        "    num *= i\n",
        "  return num\n",
        "\n",
        "fact(3)\n"
      ]
    },
    {
      "cell_type": "markdown",
      "metadata": {
        "id": "8d4D4cJpWtgR"
      },
      "source": [
        "5. Reverse a given integer number num = 47594038222 and display the count of total number of digits in your revered number using while loop."
      ]
    },
    {
      "cell_type": "code",
      "execution_count": 31,
      "metadata": {
        "id": "L5Vs4xTtWtgR",
        "outputId": "4763bd84-651c-4fe5-87eb-b93e8266be5c",
        "colab": {
          "base_uri": "https://localhost:8080/"
        }
      },
      "outputs": [
        {
          "output_type": "stream",
          "name": "stdout",
          "text": [
            "22283049574\n"
          ]
        }
      ],
      "source": [
        "#code here\n",
        "num = 47594038222\n",
        "rev = 0\n",
        "while(num>0):\n",
        "  r = num%10\n",
        "  rev = rev*10 + r\n",
        "  num = num // 10\n",
        "\n",
        "print(rev)\n",
        "\n",
        "\n"
      ]
    },
    {
      "cell_type": "markdown",
      "metadata": {
        "id": "9qtxFvU2WtgR"
      },
      "source": [
        "6. Can you reverse you given num without using loop in just one line?\n",
        "\n",
        "Hint: apply some slicing trick to do it."
      ]
    },
    {
      "cell_type": "code",
      "execution_count": 33,
      "metadata": {
        "id": "p1eS62ecWtgS",
        "outputId": "e7574497-8105-4ae9-962e-26479583f2e8",
        "colab": {
          "base_uri": "https://localhost:8080/"
        }
      },
      "outputs": [
        {
          "output_type": "stream",
          "name": "stdout",
          "text": [
            "22283049574\n"
          ]
        }
      ],
      "source": [
        "num = 47594038222\n",
        "s =str(num)[::-1]\n",
        "print(int(s))\n",
        "#one line code here\n",
        "\n"
      ]
    },
    {
      "cell_type": "markdown",
      "metadata": {
        "id": "hurM8KcSWtgS"
      },
      "source": [
        "7. Write a function that checks whether a given sequence of number is IP address or not and print all valid possible IP from a given digit. If not an IP then it prints empty list\n",
        "\n",
        "**Note:** According to Wikipedia, IPv4 addresses are canonically represented in dot-decimal notation, which consists of four decimal numbers, each ranging from 0 to 255, separated by dots, e.g., 172.16.254.1"
      ]
    },
    {
      "cell_type": "markdown",
      "source": [
        "### **`WATCH VIDEO 16: IP Address Problem`**"
      ],
      "metadata": {
        "id": "_7itjOoi9hII"
      }
    },
    {
      "cell_type": "code",
      "execution_count": 44,
      "metadata": {
        "id": "oNIW7VyFWtgS",
        "outputId": "0739d75d-c212-4a34-8983-2d8c05e6aec8",
        "colab": {
          "base_uri": "https://localhost:8080/"
        }
      },
      "outputs": [
        {
          "output_type": "stream",
          "name": "stdout",
          "text": [
            "['255.255.11.135', '255.255.111.35']\n",
            "[]\n"
          ]
        }
      ],
      "source": [
        "#Code here\n",
        "# Check your code with below numbers    \n",
        "A = \"25525511135\"\n",
        "B = \"25505011536\"\n",
        "\n",
        "def is_valid(ip):\n",
        "  ip = ip.split(\".\")\n",
        "  for i in ip:\n",
        "    if(len(i)>3 or int(i)<0 or int(i)>255):\n",
        "      return False\n",
        "    if len(i)>1 and int(i) == 0:\n",
        "      return False\n",
        "    if(len(i)>1 and int(i) != 0 and i[0] == '0'):\n",
        "      return False\n",
        "\n",
        "  return True\n",
        "\n",
        "def convert(s):\n",
        "  sz = len(s)\n",
        "  if sz > 12:\n",
        "    return []\n",
        "    \n",
        "  snew = s\n",
        "  l = []\n",
        "  for i in range(1, sz-2):\n",
        "    for j in range(i+1,sz-1):\n",
        "      for k in range(j+1,sz):\n",
        "        snew = snew[:k] + \".\" + snew[k:]\n",
        "        snew = snew[:j] + \".\" + snew[j:]\n",
        "        snew = snew[:i] + \".\" + snew[i:]\n",
        "        \n",
        "        if is_valid(snew):\n",
        "          l.append(snew)\n",
        "        snew = s\n",
        "  \n",
        "  return l\n",
        "\n",
        "#Driver Code\n",
        "A = \"25525511135\"\n",
        "B = \"25505011536\"\n",
        "\n",
        "print(convert(A))\n",
        "print(convert(B))  \n"
      ]
    },
    {
      "cell_type": "markdown",
      "metadata": {
        "id": "FukrdAXMWtgT"
      },
      "source": [
        "8. Solve the quadratic equation ax**2 + bx + c = 0 where a =4, b=6, c=2"
      ]
    },
    {
      "cell_type": "code",
      "execution_count": 45,
      "metadata": {
        "id": "wL1sWuYLWtgT",
        "outputId": "d6e7f3d0-aa36-42d1-c113-6ff6bc52a473",
        "colab": {
          "base_uri": "https://localhost:8080/"
        }
      },
      "outputs": [
        {
          "output_type": "stream",
          "name": "stdout",
          "text": [
            "The solution are-1.0 and -0.5\n"
          ]
        }
      ],
      "source": [
        "#code here\n",
        "import math\n",
        "a = 4\n",
        "b = 6\n",
        "c = 2\n",
        "d = (b**2) - (4*a*c)\n",
        "sol1 = (-b-math.sqrt(d))/(2*a)\n",
        "sol2 = (-b+math.sqrt(d))/(2*a)\n",
        "print('The solution are{0} and {1}'.format(sol1,sol2))\n",
        "\n",
        "\n"
      ]
    },
    {
      "cell_type": "markdown",
      "metadata": {
        "id": "6vngA60DWtgT"
      },
      "source": [
        "9. Write a program to Remove Punctuations From a String \n",
        "\n",
        "s=\"Wow!!!, we are going ahead with our course to learn *machine learning* ---are'nt you excited? :)\""
      ]
    },
    {
      "cell_type": "code",
      "execution_count": 47,
      "metadata": {
        "id": "gvQfy5kQWtgT",
        "outputId": "d8997778-2fae-4d49-9aab-9bf3aa76475e",
        "colab": {
          "base_uri": "https://localhost:8080/"
        }
      },
      "outputs": [
        {
          "output_type": "stream",
          "name": "stdout",
          "text": [
            "Wow  we are going ahead with out course to learn machine learning  arent you excited \n"
          ]
        }
      ],
      "source": [
        "# code here\n",
        "punctuation = '''~!@#$^(){}[]'\";:.,--/?'''\n",
        "input_str = \"Wow !!! we are going ahead with out course to learn machine learning --- aren't you excited? :)\"\n",
        "\n",
        "new_str = input_str\n",
        "for char in input_str:\n",
        "  if char in punctuation:\n",
        "    new_str = new_str.replace(char,\"\")\n",
        "print(new_str)\n",
        "\n",
        "\n",
        "\n"
      ]
    },
    {
      "cell_type": "markdown",
      "metadata": {
        "id": "aCJgsvWKWtgU"
      },
      "source": [
        "10. Write a program which takes 2 digits, X,Y as input and generates a 2-dimensional array. The element value in the i-th row and j-th column of the array should be i*j.\n",
        "\n",
        "Note: i=0,1.., X-1; j=0,1,i^Y-1."
      ]
    },
    {
      "cell_type": "code",
      "execution_count": 48,
      "metadata": {
        "id": "BAh26WXlWtgU",
        "outputId": "7d9b60cd-50d9-4b1a-f871-db8588a25a3a",
        "colab": {
          "base_uri": "https://localhost:8080/"
        }
      },
      "outputs": [
        {
          "output_type": "stream",
          "name": "stdout",
          "text": [
            "[[0, 0, 0, 0], [0, 1, 2, 3], [0, 2, 4, 6]]\n"
          ]
        }
      ],
      "source": [
        "digit1=3\n",
        "digit2=4\n",
        "\n",
        "#code here\n",
        "\n",
        "multilist = [[0 for col in range(digit2)] for row in range(digit1)]\n",
        "for row in range(digit1):\n",
        "  for col in range(digit2):\n",
        "    multilist[row][col] = row*col\n",
        "print(multilist)\n",
        "\n",
        "\n"
      ]
    },
    {
      "cell_type": "markdown",
      "metadata": {
        "id": "sZrc0--VWtgV"
      },
      "source": [
        "11. For given string S and integers P and Q, which denotes the cost of removal of substrings “he” and “lo” respectively from S, the task is to find the maximum cost of removing all occurrences of substrings “he” and “lo”.\n",
        "\n",
        "example if S = “hellohellohellohellohello”, P = 6, Q = 4, then cost to remove 'he' and 'lo' is 50"
      ]
    },
    {
      "cell_type": "code",
      "execution_count": 1,
      "metadata": {
        "id": "79BMmuVHWtgV",
        "outputId": "fdd4be59-c4da-41f1-a8ae-bdb68d4da085",
        "colab": {
          "base_uri": "https://localhost:8080/"
        }
      },
      "outputs": [
        {
          "output_type": "stream",
          "name": "stdout",
          "text": [
            "50\n"
          ]
        }
      ],
      "source": [
        "# code here\n",
        "\n",
        "def MaxCollection(S,P,Q):\n",
        "  # Maxstr is the substring char\n",
        "  # array wth larger cost\n",
        "  maxstr = [i for i in (\"he\" if P >= Q else \"lo\")]\n",
        "  # Minstr is the substring char\n",
        "  # array wth smaller cost\n",
        "  minstr = [i for i in (\"lo\" if P >= Q else \"he\")]\n",
        "# Check code with \n",
        "  # Denote larger point\n",
        "  maxp = max(P,Q)\n",
        "\n",
        "  # Denote smaaler point\n",
        "  minp = min(P,Q)\n",
        "\n",
        "  # Stores cost scored\n",
        "  cost = 0\n",
        "\n",
        "  # Removing all occurence\n",
        "  #maxstr from the 5\n",
        "\n",
        "  stack1 = []\n",
        "  s = [i for i in S]\n",
        "\n",
        "  #Traverse the string\n",
        "  for ch in s:\n",
        "\n",
        "    # if the substring i maxstr\n",
        "    if(len(stack1)>0 and (stack1[-1] == maxstr[0] and ch == maxstr[1])):\n",
        "      #Pop from the stack\n",
        "      del stack1[-1]\n",
        "      #Add maxp to stack\n",
        "      cost += maxp\n",
        "    #push the character to the stack\n",
        "    else:\n",
        "      stack1.append(ch)\n",
        "  # Remaining string after removing maxstr\n",
        "  sb = \"\"\n",
        "\n",
        "  #Find remaining string\n",
        "  while(len(stack1)>0):\n",
        "    sb += stack1[-1]\n",
        "    del stack1[-1]\n",
        "\n",
        "  sb = sb[::-1]\n",
        "  remstr = sb\n",
        "\n",
        "  #Reversing the string\n",
        "  # return the maximum cost\n",
        "  for ch in remstr:\n",
        "    # if the substring i minstr\n",
        "    if(len(stack1)>0 and (stack1[-1] == minstr[0] and ch == minstr[1])):\n",
        "      #Pop from the stack\n",
        "      del stack1[-1]\n",
        "      #Add maxp to stack\n",
        "      cost += minp\n",
        "      #push the character to the stack\n",
        "    else:\n",
        "      stack1.append(ch)\n",
        "  return cost\n",
        "\n",
        "# Driver code\n",
        "if __name__ == '__main__':\n",
        "  #input String\n",
        "  \n",
        "  S = \"hellohellohellohellohello\"\n",
        "\n",
        "  #costs\n",
        "  P = 6\n",
        "  Q = 4\n",
        "\n",
        "\n",
        "\n",
        "\n",
        "print(MaxCollection(S, P, Q))"
      ]
    },
    {
      "cell_type": "markdown",
      "metadata": {
        "id": "tElaaNPNWtgV"
      },
      "source": [
        "12. Given a binary string S , the task is to find the smallest string possible by removing all occurrences of substrings “01” and “11”. After removal of any substring, concatenate the remaining parts of the string.\n",
        "\n",
        "Example\n",
        "    \n",
        "    Input: S = “0010110”\n",
        "    Output: String = 0\n",
        "    \n",
        "    Explanation: String can be transformed by the following steps: \n",
        "    0010110 → 00110 → 010 → 0. \n",
        "    Since no occurrence of substrings 01 and 11 are remaining, the string “0” is of minimum possible length 1."
      ]
    },
    {
      "cell_type": "code",
      "execution_count": 12,
      "metadata": {
        "id": "i9OIbWhoWtgV",
        "outputId": "f2f96b37-7985-4d04-db1a-262fcd50e222",
        "colab": {
          "base_uri": "https://localhost:8080/"
        }
      },
      "outputs": [
        {
          "output_type": "stream",
          "name": "stdout",
          "text": [
            "The final string is: 0\n",
            "The final string size is: 1\n"
          ]
        }
      ],
      "source": [
        "#code here\n",
        "def finalString(s):\n",
        "  while len(s)>=2:\n",
        "    for i in range(len(s)):\n",
        "      if(s[i:i+2]==\"01\")|(s[i:i+2]==\"11\"):\n",
        "        s=s.replace(s[i:i+2],\"\")\n",
        "  return s\n",
        "\n",
        "#check code here\n",
        "    \n",
        "s=\"0010110\"\n",
        "print(\"The final string is:\",finalString(s))\n",
        "print(\"The final string size is:\",len(finalString(s)))"
      ]
    },
    {
      "cell_type": "markdown",
      "metadata": {
        "id": "BYeCBfFUWtgV"
      },
      "source": [
        "13. Write a function such that it accepts two integers n, m as arguments Find the sum of all numbers in range from 1 to m(both inclusive) that are not divisible by n. Return difference between sum of integers not divisible by n with sum of numbers divisible by n\n",
        "\n",
        "Example\n",
        "\n",
        "    Input\n",
        "    n:4\n",
        "    m:20\n",
        "    Output\n",
        "    90"
      ]
    },
    {
      "cell_type": "code",
      "execution_count": 13,
      "metadata": {
        "id": "KgO9ShzPWtgV",
        "outputId": "32e299bb-b2e0-4de8-ecb4-7c278b7e02c4",
        "colab": {
          "base_uri": "https://localhost:8080/"
        }
      },
      "outputs": [
        {
          "output_type": "stream",
          "name": "stdout",
          "text": [
            "60 and 150\n",
            "90\n"
          ]
        }
      ],
      "source": [
        "#code here\n",
        "n,m = 4,20\n",
        "sum1 = 0\n",
        "sum2 = 0\n",
        "for i in range (1,m+1):\n",
        "  if i%n == 0:\n",
        "    sum1 += i\n",
        "  else:\n",
        "    sum2 += i\n",
        "print(f\"{sum1} and {sum2}\")\n",
        "print(abs(sum2-sum1))\n",
        "\n",
        "\n",
        "\n"
      ]
    },
    {
      "cell_type": "markdown",
      "metadata": {
        "id": "GMjx2bfxWtgW"
      },
      "source": [
        "14. Write a function count_code that return the number of times that the string \"code\" appears anywhere in the given string, except we'll accept any letter for the 'd', so \"cope\" and \"cooe\" count.\n",
        "\n",
        "\n",
        "    count_code('aaacodebbb') → 1\n",
        "    count_code('codexxcode') → 2\n",
        "    count_code('cozexxcope') → 2"
      ]
    },
    {
      "cell_type": "code",
      "execution_count": 17,
      "metadata": {
        "id": "7G1E7BewWtgW",
        "outputId": "36419f10-b300-4c02-9158-4d6f61434fc5",
        "colab": {
          "base_uri": "https://localhost:8080/"
        }
      },
      "outputs": [
        {
          "output_type": "stream",
          "name": "stdout",
          "text": [
            "1\n",
            "2\n",
            "2\n"
          ]
        }
      ],
      "source": [
        "#code here\n",
        "def count_code(s):\n",
        "  alphabet = 'abcdefghijklmnopqrstuvwxyz'\n",
        "  total = 0\n",
        "  for letter in alphabet:\n",
        "    total += s.count('co' + letter+'e')\n",
        "  return total\n",
        "\n",
        "#check your code \n",
        "print(count_code('aaacodebbb'))\n",
        "print(count_code('codexxcode'))\n",
        "print(count_code('cozexxcope'))\n"
      ]
    },
    {
      "cell_type": "markdown",
      "metadata": {
        "id": "wqFNSGkCWtgW"
      },
      "source": [
        "15. Lets have one moderate level question for you. \n",
        "\n",
        "Find the sum of the series 4 +44 + 444 + 4444 + .. n terms\n",
        "\n",
        "here keep n=5"
      ]
    },
    {
      "cell_type": "code",
      "execution_count": 19,
      "metadata": {
        "id": "U4qRCUQFWtgW",
        "outputId": "722cc468-83c7-48b9-fb5a-34373b1c396d",
        "colab": {
          "base_uri": "https://localhost:8080/"
        }
      },
      "outputs": [
        {
          "output_type": "stream",
          "name": "stdout",
          "text": [
            "4+44+444+4444\n"
          ]
        },
        {
          "output_type": "execute_result",
          "data": {
            "text/plain": [
              "4936"
            ]
          },
          "metadata": {},
          "execution_count": 19
        }
      ],
      "source": [
        "#code here\n",
        "\n",
        "def digit_sum(x):\n",
        "  lst=[str(x)*i for i in range(1, x+1)]\n",
        "  print('+'.join(lst))\n",
        "  return sum(map(int,lst))\n",
        "digit_sum(4)\n",
        "\n"
      ]
    },
    {
      "cell_type": "markdown",
      "metadata": {
        "id": "XH_ocrNWWtgY"
      },
      "source": [
        "16. Assume s is a string of lower case characters.\n",
        "<br>\n",
        "Write a program that counts up the number of vowels contained in the string s. Valid vowels are: 'a', 'e', 'i', 'o', and 'u'. For example, if s = 'azcbobobegghakl', your program should print:<br>\n",
        "```Number of vowels: 5```"
      ]
    },
    {
      "cell_type": "code",
      "execution_count": 20,
      "metadata": {
        "id": "7uCQTExKWtgY",
        "outputId": "0b78d20b-faac-4224-f46b-92803370da73",
        "colab": {
          "base_uri": "https://localhost:8080/"
        }
      },
      "outputs": [
        {
          "output_type": "stream",
          "name": "stdout",
          "text": [
            "No of vowels: 5\n"
          ]
        }
      ],
      "source": [
        "#code here\n",
        "s='azcbobobegghakl'\n",
        "count = 0\n",
        "vowels = list('aeiou')\n",
        "for letter in s:\n",
        "  if letter in vowels:\n",
        "    count += 1\n",
        "print('No of vowels:', count)"
      ]
    },
    {
      "cell_type": "markdown",
      "metadata": {
        "id": "ENqZvqo0WtgY"
      },
      "source": [
        "17. well done. Now we want you to solve above question in just one line. have faith in your, you can do it. "
      ]
    },
    {
      "cell_type": "code",
      "execution_count": 25,
      "metadata": {
        "id": "SQaBwDqNWtgY",
        "outputId": "3571a47d-0cab-4ead-f7b6-690b2d3fae95",
        "colab": {
          "base_uri": "https://localhost:8080/"
        }
      },
      "outputs": [
        {
          "output_type": "execute_result",
          "data": {
            "text/plain": [
              "5"
            ]
          },
          "metadata": {},
          "execution_count": 25
        }
      ],
      "source": [
        "# one line code here.\n",
        "s='azcbobobegghakl'\n",
        "count = 0\n",
        "vowels = list('aeiou')\n",
        "sum([1 for letter in s if letter in vowels])\n",
        "\n",
        "\n",
        "\n",
        "\n"
      ]
    },
    {
      "cell_type": "markdown",
      "metadata": {
        "id": "qGWdX37AWtgY"
      },
      "source": [
        "18. Assume s is a string of lower case characters.\n",
        "\n",
        "Write a program that prints the number of times the string 'bob' occurs in s. For example, if s = 'azcbobobegghakl', then your program should print\n",
        "\n",
        "```Number of times bob occurs is: 2```"
      ]
    },
    {
      "cell_type": "code",
      "execution_count": 30,
      "metadata": {
        "id": "BfY-AJBOWtgZ",
        "outputId": "30dc58ed-6d14-43c9-d924-95d8146f30c0",
        "colab": {
          "base_uri": "https://localhost:8080/"
        }
      },
      "outputs": [
        {
          "output_type": "execute_result",
          "data": {
            "text/plain": [
              "2"
            ]
          },
          "metadata": {},
          "execution_count": 30
        }
      ],
      "source": [
        "#code here\n",
        "s = 'azcbobobegghakl'\n",
        "from re import findall\n",
        "len(findall(\"(?=bob)\",s))\n",
        "\n",
        "\n",
        "\n"
      ]
    },
    {
      "cell_type": "markdown",
      "metadata": {
        "id": "z7Phv1OxWtgZ"
      },
      "source": [
        "19. Assume s is a string of lower case characters.\n",
        "\n",
        "Write a program that prints the longest substring of s in which the letters occur in alphabetical order. For example, if s = 'azcbobobegghakl', then your program should print\n",
        "\n",
        "```Longest substring in alphabetical order is: beggh```<br><br>\n",
        "In the case of ties, print the first substring. For example, if s = 'abcbcd', then your program should print\n",
        "\n",
        "```Longest substring in alphabetical order is: abc```"
      ]
    },
    {
      "cell_type": "code",
      "execution_count": 31,
      "metadata": {
        "id": "v2UD_kZDWtgZ",
        "outputId": "14fc6ebc-6f9f-4610-fab1-8085378b880b",
        "colab": {
          "base_uri": "https://localhost:8080/",
          "height": 140
        }
      },
      "outputs": [
        {
          "output_type": "stream",
          "name": "stdout",
          "text": [
            "['a', 'z']\n",
            "[]\n",
            "['o']\n",
            "['o']\n",
            "['e', 'g', 'g', 'h']\n",
            "Final ['k', 'l']\n"
          ]
        },
        {
          "output_type": "execute_result",
          "data": {
            "text/plain": [
              "'eggh'"
            ],
            "application/vnd.google.colaboratory.intrinsic+json": {
              "type": "string"
            }
          },
          "metadata": {},
          "execution_count": 31
        }
      ],
      "source": [
        "#code here\n",
        "s = 'azcbobobegghakl'\n",
        "def alphabetical_substring(word):\n",
        "  current_sequence = []\n",
        "  last_letter = \"\"\n",
        "  for letter in word:\n",
        "    if letter >= last_letter:\n",
        "      current_sequence.append(letter)\n",
        "    else:\n",
        "      print(current_sequence)\n",
        "      yield ''.join(current_sequence)\n",
        "      current_sequence = []\n",
        "    last_letter = letter\n",
        "  print('Final', current_sequence)\n",
        "  if current_sequence:\n",
        "    yield ''.join(current_sequence)\n",
        "\n",
        "def longest_substring_in_alphabetical_order(word):\n",
        "  return max(alphabetical_substring(word), key=len)\n",
        "longest_substring_in_alphabetical_order(s)\n"
      ]
    },
    {
      "cell_type": "markdown",
      "metadata": {
        "id": "O03DVclUWtgZ"
      },
      "source": [
        "Awsesome! Great job so far. Hope you fell in love with python now.\n",
        "\n",
        "\n",
        "But wait we want to give a treat..:) We have a surprise for you in form of one of the task, in this task you have to create a game in python. You can take up this task as a mini project of your's in python. Hmm.. Sounds good. Isn't it?\n",
        "\n",
        "So lets gets started.. we have given the instructions below for the task in detail \n",
        "\n",
        "# Hangman Game\n",
        "## In this project we are going to create Hangman Game using python\n",
        "\n",
        "\n",
        "**Q. What is the hangman game?**<br>\n",
        "A:- Hangman is a guessing game. The player will tries to guess a word picked by the computer, by suggesting letters within a certain number of guesses\n",
        "\n",
        "\n",
        "# Task 1\n",
        "Create a function **is_word_guessed** that takes in two arguments :- <br> **secret_word**, **letters_guessed** <br>**returns True** if all of the letter of secret_word are in letters_guessed, **returns False** if not\n",
        "\n",
        "\n",
        "**Assumptions**<br>\n",
        "**secret_word**: string, the word the user is guessing; assumes all letters are lowercase<br>\n",
        "**letters_guessed**: list (of letters), which letters have been guessed so far; assumes that all letters are lowercase<br>\n",
        "\n",
        "**Example**:-<br> \n",
        "secret_word = 'apple'<br>\n",
        "letters_guessed = ['e', 'a', 'k', 'p', 'l', 's']<br>\n",
        "is_word_guessed() will return True.<br><br> \n",
        "secret_word = 'apple'<br>\n",
        "letters_guessed = ['e', 'i', 'k', 'p', 'r', 's']<br>\n",
        "is_word_guessed() will return False.<br><br> \n",
        "\n",
        "\n",
        "\n"
      ]
    },
    {
      "cell_type": "markdown",
      "source": [
        "### **`Watch Video 17: Hangman Tutorial`**"
      ],
      "metadata": {
        "id": "3cr3up4t-bZv"
      }
    },
    {
      "cell_type": "code",
      "execution_count": 38,
      "metadata": {
        "id": "f20UadoKWtgZ"
      },
      "outputs": [],
      "source": [
        "def is_word_guessed(secret_word, letters_guessed):\n",
        "    \n",
        "    # Code here\n",
        "    Temp = 0\n",
        "    for word in secret_word:\n",
        "      if word not in letters_guessed:\n",
        "        Temp = -1\n",
        "        break\n",
        "      \n",
        "    if Temp == 0:\n",
        "      return True\n",
        "    else:\n",
        "      return False\n",
        "\n",
        "\n",
        "   \n",
        "\n",
        "\n"
      ]
    },
    {
      "cell_type": "markdown",
      "metadata": {
        "id": "fuaxxaOYWtgZ"
      },
      "source": [
        "# Task 2\n",
        "Create a function **get_guessed_word** that takes in two arguments :-<br> **secret_word**, **letters_guessed** <br>**returns** string, comprised of known letters, and unknown letters represented by an underscore and a space (_ )<br>\n",
        "\n",
        "**Assumptions**<br>\n",
        "**secret_word**: string, the word the user is guessing;<br>\n",
        "**letters_guessed**: list (of letters), which letters have been guessed so far<br>\n",
        "\n",
        "**Example**:-<br>\n",
        "secret_word = 'apple'<br>\n",
        "letters_guessed = ['e', 'i', 'k', 'p', 'r', 's']<br>\n",
        "get_guessed_word() will return '_ pp_ e'\n",
        "\n",
        "```\n",
        "You want something like a_ _ _ d_ j and Not a___d_j,\n",
        "which might make it hard for the user to know how many characters are there to be guessed, \n",
        "that's why you want to use '_ ' instead of '_'\n",
        "```"
      ]
    },
    {
      "cell_type": "code",
      "execution_count": 39,
      "metadata": {
        "id": "lgZOCOV7Wtga"
      },
      "outputs": [],
      "source": [
        "# importing modules needed for the project\n",
        "import random\n",
        "import string\n",
        "\n",
        "def get_guessed_word(secret_word, letters_guessed):\n",
        "  for word in secret_word:\n",
        "    if word not in letters_guessed:\n",
        "      secret_word = secret_word.replace(word, '-')\n",
        "  return secret_word\n",
        "  \n",
        "    \n",
        "#     code here"
      ]
    },
    {
      "cell_type": "markdown",
      "metadata": {
        "id": "n-FFgeOXWtga"
      },
      "source": [
        "# Task 3\n",
        "\n",
        "Create a function **get_available_letter** that takes in one arguments <br> **letters_guessed** <br>**returns** string (of letters), comprised of letters that represents which letters have not yet been guessed.\n",
        "\n",
        "**Assumptions**<br>\n",
        "**letters_guessed**: list (of letters), which letters have been guessed so far;<br>\n",
        "\n",
        "**Example**:-<br>\n",
        "letters_guessed = [’a’, ’l’, ’m’]<br>\n",
        "get_available_letter() will return 'bcdefghijknopqrstuvwxyz'<br>\n",
        "```\n",
        "You might want to consider using string.ascii_lowercase :=\n",
        "\n",
        "import string\n",
        "print(string.ascii_lowercase)\n",
        "output:- abcdefghijklmnopqrstuvwxyz\n",
        "```"
      ]
    },
    {
      "cell_type": "code",
      "execution_count": 40,
      "metadata": {
        "id": "O0Ru7FUsWtga"
      },
      "outputs": [],
      "source": [
        "\n",
        "def get_available_letters(letters_guessed):\n",
        "    '''\n",
        "    letters_guessed: list (of letters), which letters have been guessed so far\n",
        "    returns: string (of letters), comprised of letters that represents which letters have not\n",
        "      yet been guessed.\n",
        "    '''\n",
        "    # FILL IN YOUR CODE HERE \n",
        "    available_letters = string.ascii_lowercase\n",
        "    for letter in letters_guessed:\n",
        "      available_letters = available_letters.replace(letter,\"\")\n",
        "    return available_letters\n",
        "    "
      ]
    },
    {
      "cell_type": "markdown",
      "metadata": {
        "id": "jQJszStcWtga"
      },
      "source": [
        "### Great, We have created all of the Helper functions, now let's start our work on the actual Hangman Game\n",
        "\n",
        "# Hangman Game\n",
        "\n",
        "Create a function **hangman** that takes in one argument<br>\n",
        "**secret_word** :- string, the secret word to guess.<br>\n",
        "\n",
        "**The function should do the following**:-<br>\n",
        "Starts up an interactive game of Hangman.\n",
        "\n",
        "* At the start of the game, let the user know how many letters the secret_word contains and how many guesses s/he starts with.\n",
        "\n",
        "* The user should start with 6 guesses\n",
        "\n",
        "* Before each round, you should display to the user how many guesses s/he has left and the letters that the user has not yet guessed.\n",
        "\n",
        "* Ask the user to supply one guess per round. Remember to make sure that the user puts in a letter!\n",
        "\n",
        "* The user should receive feedback immediately after each guess about whether their guess appears in the computer's word.\n",
        "\n",
        "* After each guess, you should display to the user the partially guessed word so far.\n",
        "\n",
        "* If the user inputs a letter that hasn’t been guessed before and the letter is in the secret word, the user loses no guesses.\n",
        "\n",
        "* Consonants: If the user inputs a consonant that hasn’t been guessed and the consonant is not in the secret word, the user loses one guess if it’s a consonant.\n",
        "* Vowels: If the vowel hasn’t been guessed and the vowel is not in the secret word, the user loses two guesses. Vowels are a, e, i, o, and u. y does not count as a vowel.\n",
        "\n",
        "* The game should end when the user constructs the full word or runs out of guesses.\n",
        "* If the player runs out of guesses before completing the word, tell them they lost and reveal the word to the user when the game ends.\n",
        "* If the user wins, print a congratulatory message and tell the user their score.\n",
        "* The total score is the number of guesses_remaining once the user has guessed the secret_word times the number of unique letters in secret_word.\n",
        "```\n",
        "Total score = guesses_remaining * number unique letters in secret_word\n",
        "```"
      ]
    },
    {
      "cell_type": "markdown",
      "metadata": {
        "id": "NLlYCU26Wtga"
      },
      "source": [
        "## Demo Game 1\n",
        "```\n",
        "Welcome to the game Hangman!\n",
        "I am thinking of a word that is 4 letters long.\n",
        "-------------\n",
        "You have 6 guesses left.\n",
        "Available letters: abcdefghijklmnopqrstuvwxyz\n",
        "Please guess a letter: ​a\n",
        "Good guess: _ a_ _\n",
        "------------\n",
        "You have 6 guesses left.\n",
        "Available letters: bcdefghijklmnopqrstuvwxyz\n",
        "Please guess a letter: ​s\n",
        "Oops! That letter is not in my word.\n",
        "Please guess a letter: _ a_ _\n",
        "------------\n",
        "You have 5 guesses left.\n",
        "Available letters: bcdefghijklmnopqrtuvwxyz\n",
        "Please guess a letter: ​t\n",
        "Good guess: ta_ t\n",
        "------------\n",
        "You have 5 guesses left.\n",
        "Available letters: bcdefghijklmnopqrtuvwxyz\n",
        "Please guess a letter: ​e\n",
        "Oops! That letter is not in my word: ta_ t\n",
        "------------\n",
        "You have 3 guesses left.\n",
        "Available letters: bcdfghijklnopquvwxyz Please guess a letter: ​c\n",
        "Good guess: tact\n",
        "------------\n",
        "Congratulations, you won!\n",
        "Your total score for this game is: 6\n",
        "```"
      ]
    },
    {
      "cell_type": "markdown",
      "metadata": {
        "id": "LvPe95WxWtga"
      },
      "source": [
        "## Demo Game 2\n",
        "```\n",
        "Welcome to the game Hangman!\n",
        "I am thinking of a word that is 4 letters long\n",
        "-----------\n",
        "You have 6 guesses left\n",
        "Available Letters: abcdefghijklmnopqrstuvwxyz\n",
        "Please guess a letter: ​a\n",
        "Oops! That letter is not in my word: _ _ _ _\n",
        "-----------\n",
        "You have 4 guesses left\n",
        "Available Letters: bcdefghijklmnopqrstuvwxyz\n",
        "Please guess a letter: ​b\n",
        "Oops! That letter is not in my word: _ _ _ _\n",
        "-----------\n",
        "You have 3 guesses left\n",
        "Available Letters: cdefghijklmnopqrstuvwxyz\n",
        "Please guess a letter: ​c\n",
        "Oops! That letter is not in my word: _ _ _ _\n",
        "-----------\n",
        "You have 2 guesses left\n",
        "Available Letters: defghijklmnopqrstuvwxyz\n",
        "Please guess a letter: ​d\n",
        "Oops! That letter is not in my word: _ _ _ _\n",
        "-----------\n",
        "You have 1 guesses left\n",
        "Available Letters: efghijklmnopqrstuvwxyz\n",
        "Please guess a letter: ​e\n",
        "Good guess: e_ _ e\n",
        "-----------\n",
        "You have 1 guesses left\n",
        "Available Letters: fghijklmnopqrstuvwxyz\n",
        "Please guess a letter: ​f\n",
        "Oops! That letter is not in my word: e_ _ e\n",
        "-----------\n",
        "Sorry, you ran out of guesses. The word was else.\n",
        "```"
      ]
    },
    {
      "cell_type": "markdown",
      "metadata": {
        "id": "oFs3nV8AWtgb"
      },
      "source": [
        "## Hints\n",
        "**Try to keep the output as similar to the one's above**<br>\n",
        "**Hints:-**\n",
        "```\n",
        "1. Consider writing additional helper functions if you need them.\n",
        "2. There are four important pieces of information you may wish to store:\n",
        "a. secret_word​: The word to guess. This is already used as the parameter name for the ​hangman​ function.\n",
        "b. letters_guessed​: The letters that have been guessed so far. If they guess a letter that is already in ​letters_guessed​, you should print a message telling them they've already guessed that but do not penalize them for it.\n",
        "c. guesses_remaining​: The number of guesses the user has left. Note that in our example game, the penalty for choosing an incorrect vowel is different than the penalty for choosing an incorrect consonant.\n",
        "```"
      ]
    },
    {
      "cell_type": "code",
      "execution_count": 46,
      "metadata": {
        "id": "IlkkRBPFWtgb"
      },
      "outputs": [],
      "source": [
        "\n",
        "def no_of_unique_words(string):\n",
        "    list = []\n",
        "    c =0\n",
        "    for s in string:\n",
        "      if s not in list:\n",
        "        c+=1\n",
        "        list.append(s)\n",
        "    return c  \n",
        "    \n",
        "def hangman(secret_word):\n",
        "    no_of_guess = 6\n",
        "    letters_guessed = []\n",
        "    total_score = 0\n",
        "\n",
        "    print('welcome to the game hangman!')\n",
        "    print(f'I am thinking of a word that is {len(secret_word)} letters long')\n",
        "    print('----------------------------------------')\n",
        "    while True:\n",
        "      if(no_of_guess == 0 and is_word_guessed(secret_word, letters_guessed) == False) or is_word_guessed(secret_word, letters_guessed):\n",
        "        if(is_word_guessed(secret_word, letters_guessed)):\n",
        "          total_score = no_of_guess * no_of_unique_words(secret_word)\n",
        "          print('congratulations, you won!')\n",
        "          print(f'your total score for this game is: {total_score}')\n",
        "        elif(no_of_guess == 0 and is_word_guessed(secret_word, letters_guessed) == False):\n",
        "          print(f'Sorry you ran out of guess. The word is: {secret_word}')\n",
        "      else:\n",
        "        available_letter = get_available_letters(letters_guessed)\n",
        "        print(f'your have {no_of_guess} guesses left')\n",
        "        print(f'Available letters: {available_letter}')\n",
        "\n",
        "        letter_guessed = input('Please guess a letter:')\n",
        "        if(letter_guessed.isalpha() == False):\n",
        "          print('That is not a valid letter')\n",
        "          print('--------------------------')\n",
        "          continue\n",
        "        elif(letter_guessed in letters_guessed):\n",
        "          print('you have already guessed that letter')\n",
        "          print('--------------------------')\n",
        "          continue\n",
        "\n",
        "        letter_guessed = letter_guessed.lower()\n",
        "        letters_guessed.append(letter_guessed)\n",
        "\n",
        "        if letter_guessed in secret_word:\n",
        "          print(f'Good guess: {get_guessed_word(secret_word, letters_guessed)}')\n",
        "        elif letter_guessed in ['a','e','i','o','u']:\n",
        "          print(f'Oops! That letter is not in my word: {get_guessed_word(secret_word, letters_guessed)}')\n",
        "          no_of_guess -= 2\n",
        "        else:\n",
        "          print(f'Oops! That letter is not in my word: {get_guessed_word(secret_word, letters_guessed)}')\n",
        "          no_of_guess -= 1\n",
        "        print('----------------------------------')\n",
        "        continue\n",
        "      break\n"
      ]
    },
    {
      "cell_type": "code",
      "execution_count": 47,
      "metadata": {
        "id": "rqr36B-BWtgb",
        "outputId": "107199c8-1c17-4937-8ce2-7bc5c49f225c",
        "colab": {
          "base_uri": "https://localhost:8080/"
        }
      },
      "outputs": [
        {
          "output_type": "stream",
          "name": "stdout",
          "text": [
            "welcome to the game hangman!\n",
            "I am thinking of a word that is 5 letters long\n",
            "----------------------------------------\n",
            "your have 6 guesses left\n",
            "Available letters: abcdefghijklmnopqrstuvwxyz\n",
            "Please guess a letter:a\n",
            "Good guess: a----\n",
            "----------------------------------\n",
            "your have 6 guesses left\n",
            "Available letters: bcdefghijklmnopqrstuvwxyz\n",
            "Please guess a letter:e\n",
            "Good guess: a---e\n",
            "----------------------------------\n",
            "your have 6 guesses left\n",
            "Available letters: bcdfghijklmnopqrstuvwxyz\n",
            "Please guess a letter:p\n",
            "Good guess: app-e\n",
            "----------------------------------\n",
            "your have 6 guesses left\n",
            "Available letters: bcdfghijklmnoqrstuvwxyz\n",
            "Please guess a letter:l\n",
            "Good guess: apple\n",
            "----------------------------------\n",
            "congratulations, you won!\n",
            "your total score for this game is: 24\n"
          ]
        }
      ],
      "source": [
        "# When you've completed your hangman function, test it out to see it is working fine\n",
        "# (hint: you might want to pick your own\n",
        "# secret_word while you're doing your own testing by changing 'apple' to any other string)\n",
        "hangman('apple')"
      ]
    },
    {
      "cell_type": "markdown",
      "metadata": {
        "id": "ayutll31Wtgc"
      },
      "source": [
        "## Congratulations all of your hardwork paid of, you have just created the Hangman Game<br>\n",
        "**now go ahead and play the game you created, run the cell below**\n",
        "\n"
      ]
    },
    {
      "cell_type": "code",
      "execution_count": 45,
      "metadata": {
        "id": "OXfcylbvWtgc",
        "outputId": "109e94d5-c8ba-4ba4-803f-3a1389cfb8ad",
        "colab": {
          "base_uri": "https://localhost:8080/",
          "height": 1000
        }
      },
      "outputs": [
        {
          "output_type": "stream",
          "name": "stdout",
          "text": [
            "welcome to the game hangman!\n",
            "I am thinking of a word that is 7 letters long\n",
            "----------------------------------------\n",
            "your have 6 guesses left\n",
            "Available letters: abcdefghijklmnopqrstuvwxyz\n",
            "Please guess a letter:b\n",
            "Oops! That letter is not in my word: -------\n",
            "----------------------------------\n",
            "your have 5 guesses left\n",
            "Available letters: acdefghijklmnopqrstuvwxyz\n",
            "Please guess a letter:p\n",
            "Oops! That letter is not in my word: -------\n",
            "----------------------------------\n",
            "your have 4 guesses left\n",
            "Available letters: acdefghijklmnoqrstuvwxyz\n",
            "Please guess a letter:d\n",
            "Good guess: d------\n",
            "----------------------------------\n",
            "your have 4 guesses left\n",
            "Available letters: acefghijklmnoqrstuvwxyz\n",
            "Please guess a letter:i\n",
            "Good guess: d---i--\n",
            "----------------------------------\n",
            "your have 4 guesses left\n",
            "Available letters: acefghjklmnoqrstuvwxyz\n",
            "Please guess a letter:e\n",
            "Good guess: de--i--\n",
            "----------------------------------\n",
            "your have 4 guesses left\n",
            "Available letters: acfghjklmnoqrstuvwxyz\n",
            "Please guess a letter:t\n",
            "Good guess: de-ti-t\n",
            "----------------------------------\n",
            "your have 4 guesses left\n",
            "Available letters: acfghjklmnoqrsuvwxyz\n",
            "Please guess a letter:n\n",
            "Good guess: denti-t\n",
            "----------------------------------\n",
            "your have 4 guesses left\n",
            "Available letters: acfghjklmoqrsuvwxyz\n",
            "Please guess a letter:s\n",
            "Good guess: dentist\n",
            "----------------------------------\n"
          ]
        },
        {
          "output_type": "error",
          "ename": "TypeError",
          "evalue": "ignored",
          "traceback": [
            "\u001b[0;31m---------------------------------------------------------------------------\u001b[0m",
            "\u001b[0;31mTypeError\u001b[0m                                 Traceback (most recent call last)",
            "\u001b[0;32m<ipython-input-45-9a06dd9f7acf>\u001b[0m in \u001b[0;36m<cell line: 7>\u001b[0;34m()\u001b[0m\n\u001b[1;32m      5\u001b[0m \u001b[0;34m\u001b[0m\u001b[0m\n\u001b[1;32m      6\u001b[0m \u001b[0;31m#check you function\u001b[0m\u001b[0;34m\u001b[0m\u001b[0;34m\u001b[0m\u001b[0m\n\u001b[0;32m----> 7\u001b[0;31m \u001b[0mhangman\u001b[0m\u001b[0;34m(\u001b[0m\u001b[0mrandom_word\u001b[0m\u001b[0;34m)\u001b[0m\u001b[0;34m\u001b[0m\u001b[0;34m\u001b[0m\u001b[0m\n\u001b[0m",
            "\u001b[0;32m<ipython-input-41-7108b14c243b>\u001b[0m in \u001b[0;36mhangman\u001b[0;34m(secret_word)\u001b[0m\n\u001b[1;32m     19\u001b[0m       \u001b[0;32mif\u001b[0m\u001b[0;34m(\u001b[0m\u001b[0mno_of_guess\u001b[0m \u001b[0;34m==\u001b[0m \u001b[0;36m0\u001b[0m \u001b[0;32mand\u001b[0m \u001b[0mis_word_guessed\u001b[0m\u001b[0;34m(\u001b[0m\u001b[0msecret_word\u001b[0m\u001b[0;34m,\u001b[0m \u001b[0mletters_guessed\u001b[0m\u001b[0;34m)\u001b[0m \u001b[0;34m==\u001b[0m \u001b[0;32mFalse\u001b[0m\u001b[0;34m)\u001b[0m \u001b[0;32mor\u001b[0m \u001b[0mis_word_guessed\u001b[0m\u001b[0;34m(\u001b[0m\u001b[0msecret_word\u001b[0m\u001b[0;34m,\u001b[0m \u001b[0mletters_guessed\u001b[0m\u001b[0;34m)\u001b[0m\u001b[0;34m:\u001b[0m\u001b[0;34m\u001b[0m\u001b[0;34m\u001b[0m\u001b[0m\n\u001b[1;32m     20\u001b[0m         \u001b[0;32mif\u001b[0m\u001b[0;34m(\u001b[0m\u001b[0mis_word_guessed\u001b[0m\u001b[0;34m(\u001b[0m\u001b[0msecret_word\u001b[0m\u001b[0;34m,\u001b[0m \u001b[0mletters_guessed\u001b[0m\u001b[0;34m)\u001b[0m\u001b[0;34m)\u001b[0m\u001b[0;34m:\u001b[0m\u001b[0;34m\u001b[0m\u001b[0;34m\u001b[0m\u001b[0m\n\u001b[0;32m---> 21\u001b[0;31m           \u001b[0mtotal_score\u001b[0m \u001b[0;34m=\u001b[0m \u001b[0mno_of_guess\u001b[0m \u001b[0;34m*\u001b[0m \u001b[0mno_of_unique_words\u001b[0m\u001b[0;34m(\u001b[0m\u001b[0msecret_word\u001b[0m\u001b[0;34m)\u001b[0m\u001b[0;34m\u001b[0m\u001b[0;34m\u001b[0m\u001b[0m\n\u001b[0m\u001b[1;32m     22\u001b[0m           \u001b[0mprint\u001b[0m\u001b[0;34m(\u001b[0m\u001b[0;34m'congratulations, you won!'\u001b[0m\u001b[0;34m)\u001b[0m\u001b[0;34m\u001b[0m\u001b[0;34m\u001b[0m\u001b[0m\n\u001b[1;32m     23\u001b[0m           \u001b[0mprint\u001b[0m\u001b[0;34m(\u001b[0m\u001b[0;34mf'your total score for this game is: {total_score}'\u001b[0m\u001b[0;34m)\u001b[0m\u001b[0;34m\u001b[0m\u001b[0;34m\u001b[0m\u001b[0m\n",
            "\u001b[0;32m<ipython-input-41-7108b14c243b>\u001b[0m in \u001b[0;36mno_of_unique_words\u001b[0;34m(string)\u001b[0m\n\u001b[1;32m      3\u001b[0m     \u001b[0mc\u001b[0m \u001b[0;34m=\u001b[0m\u001b[0;36m0\u001b[0m\u001b[0;34m\u001b[0m\u001b[0;34m\u001b[0m\u001b[0m\n\u001b[1;32m      4\u001b[0m     \u001b[0;32mfor\u001b[0m \u001b[0ms\u001b[0m \u001b[0;32min\u001b[0m \u001b[0mstring\u001b[0m\u001b[0;34m:\u001b[0m\u001b[0;34m\u001b[0m\u001b[0;34m\u001b[0m\u001b[0m\n\u001b[0;32m----> 5\u001b[0;31m       \u001b[0;32mif\u001b[0m \u001b[0ms\u001b[0m \u001b[0;32mnot\u001b[0m \u001b[0;32min\u001b[0m \u001b[0mlist\u001b[0m\u001b[0;34m:\u001b[0m\u001b[0;34m\u001b[0m\u001b[0;34m\u001b[0m\u001b[0m\n\u001b[0m\u001b[1;32m      6\u001b[0m         \u001b[0mc\u001b[0m\u001b[0;34m+=\u001b[0m\u001b[0;36m1\u001b[0m\u001b[0;34m\u001b[0m\u001b[0;34m\u001b[0m\u001b[0m\n\u001b[1;32m      7\u001b[0m         \u001b[0mlist\u001b[0m\u001b[0;34m.\u001b[0m\u001b[0mappend\u001b[0m\u001b[0;34m(\u001b[0m\u001b[0ms\u001b[0m\u001b[0;34m)\u001b[0m\u001b[0;34m\u001b[0m\u001b[0;34m\u001b[0m\u001b[0m\n",
            "\u001b[0;31mTypeError\u001b[0m: argument of type 'type' is not iterable"
          ]
        }
      ],
      "source": [
        "words = ['army', 'beautiful', 'became', 'if', 'actually', 'beside', 'between','come','eye','five','fur','imposter', 'problem' ,'revenge' ,'few' ,'circle' ,'district','trade','quota','stop','depressed','disorder','dentist']\n",
        "\n",
        "#choose a random word from list using random.choice() function\n",
        "random_word = random.choice(words)\n",
        "\n",
        "#check you function\n",
        "hangman(random_word)"
      ]
    },
    {
      "cell_type": "markdown",
      "metadata": {
        "id": "62faCBcTWtgc"
      },
      "source": [
        "--------------------------------------\n",
        "Wohooo! You did a really good job. We hope you enjoyed your first mini python project here. \n",
        "\n",
        "We understand it was bit challenging and time taking, but it's worth it, coz here you are to achieve your goal and this course will help you in all posible way to make your dreams come true.\n",
        "\n"
      ]
    },
    {
      "cell_type": "markdown",
      "metadata": {
        "id": "8p3Ruyw6Wtgc"
      },
      "source": [
        "\n",
        "\n",
        "----------------------------------------------------------------------"
      ]
    },
    {
      "cell_type": "markdown",
      "metadata": {
        "id": "JiGSsuwaWtgd"
      },
      "source": [
        "# Bam!, you completed the second milestone challenge too:)!! "
      ]
    },
    {
      "cell_type": "markdown",
      "metadata": {
        "id": "ME6IJ3pOWtgd"
      },
      "source": [
        "# FeedBack\n",
        "We hope you’ve enjoyed this course so far. We’re committed to help you use \"AI for All\" course to its full potential, so that you have a great learning experience. And that’s why we need your help in form of a feedback here.\n",
        "\n",
        "Please fill this feedback form https://docs.google.com/forms/d/e/1FAIpQLSfjBmH0yJSSA34IhSVx4h2eDMgOAeG4Dk-yHid__NMTk3Hq5g/viewform"
      ]
    }
  ],
  "metadata": {
    "kernelspec": {
      "display_name": "Python 3",
      "language": "python",
      "name": "python3"
    },
    "language_info": {
      "codemirror_mode": {
        "name": "ipython",
        "version": 3
      },
      "file_extension": ".py",
      "mimetype": "text/x-python",
      "name": "python",
      "nbconvert_exporter": "python",
      "pygments_lexer": "ipython3",
      "version": "3.8.5"
    },
    "colab": {
      "provenance": []
    }
  },
  "nbformat": 4,
  "nbformat_minor": 0
}